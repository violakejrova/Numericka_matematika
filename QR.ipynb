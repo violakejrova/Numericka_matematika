{
 "cells": [
  {
   "cell_type": "code",
   "execution_count": 18,
   "id": "0ba61221-5fc7-4abe-a4e1-08e840c7bfa7",
   "metadata": {},
   "outputs": [
    {
     "name": "stdout",
     "output_type": "stream",
     "text": [
      "Matice A:\n",
      " [[ 3.         -1.11750121  0.5919998   2.80068438]\n",
      " [ 0.         17.31000762  0.99865338  2.45802278]\n",
      " [ 1.          2.51250087 13.03461453  2.8286692 ]\n",
      " [ 1.          6.84000277  1.18938607  9.76927765]]\n",
      "Matice Q:\n",
      " [[ 3.         -0.63636364 -0.98058252 -0.7398374 ]\n",
      " [ 0.          4.         -0.40776699 -0.95121951]\n",
      " [ 1.          0.45454545  3.27184466 -0.10569106]\n",
      " [ 1.          1.45454545 -0.33009709  2.32520325]]\n",
      "Matice R:\n",
      " [[1.         0.54545455 1.45454545 1.90909091]\n",
      " [0.         4.3275019  0.60194175 1.25728155]\n",
      " [0.         0.         3.45568337 0.19105691]\n",
      " [0.         0.         0.         2.62105298]]\n",
      "Q * R:\n",
      " [[ 3.         -1.11750121  0.5919998   2.80068438]\n",
      " [ 0.         17.31000762  0.99865338  2.45802278]\n",
      " [ 1.          2.51250087 13.03461453  2.8286692 ]\n",
      " [ 1.          6.84000277  1.18938607  9.76927765]]\n"
     ]
    }
   ],
   "source": [
    "import numpy as np\n",
    "\n",
    "N = 4\n",
    "A = (2 * np.eye(N) - np.eye(N, k=-1) - np.eye(N, k=1)+[1,2,3,4])\n",
    "Q = np.zeros_like(A)     #nuloví matice\n",
    "R = np.diag(np.ones(N))  #diagonální matice - jednotková\n",
    "\n",
    "def GS(A):\n",
    "    Q[:, 0] = A[:, 0]\n",
    "    for k in range(1, N): \n",
    "        v = A[:, k]\n",
    "        for l in range(0, k):\n",
    "            q_l = Q[:, l]\n",
    "            R[l, k] = (q_l.T @ A[:, k]) / (q_l.T @ q_l)\n",
    "            v = v - R[l, k] * q_l\n",
    "        R[k, k] = np.linalg.norm(v)\n",
    "        Q[:, k] = v\n",
    "\n",
    "\n",
    "    return Q,R\n",
    "\n",
    "Q, R = GS(A)\n",
    "\n",
    "for i in range (20):\n",
    "    A = R@Q\n",
    "    A = Q@R\n",
    "\n",
    "print(\"Matice A:\\n\", A)\n",
    "print(\"Matice Q:\\n\", Q)\n",
    "print(\"Matice R:\\n\", R)\n",
    "print(\"Q * R:\\n\", Q @ R)\n"
   ]
  }
 ],
 "metadata": {
  "kernelspec": {
   "display_name": "Python 3 (ipykernel)",
   "language": "python",
   "name": "python3"
  },
  "language_info": {
   "codemirror_mode": {
    "name": "ipython",
    "version": 3
   },
   "file_extension": ".py",
   "mimetype": "text/x-python",
   "name": "python",
   "nbconvert_exporter": "python",
   "pygments_lexer": "ipython3",
   "version": "3.12.3"
  }
 },
 "nbformat": 4,
 "nbformat_minor": 5
}
