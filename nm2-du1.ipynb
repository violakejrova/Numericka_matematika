{
 "cells": [
  {
   "cell_type": "code",
   "execution_count": 252,
   "id": "b7425096-a7ee-4412-9a49-309396b63474",
   "metadata": {},
   "outputs": [
    {
     "name": "stdin",
     "output_type": "stream",
     "text": [
      "počet intervalů: 666\n"
     ]
    },
    {
     "name": "stdout",
     "output_type": "stream",
     "text": [
      "Maximum je 2.960388397857766e-06\n",
      "Maximální chyba: 0.995927760006064\n"
     ]
    }
   ],
   "source": [
    "import numpy as np\n",
    "\n",
    "N = int(input(\"počet intervalů:\"))\n",
    "h = 1/(N+1)\n",
    "xi = np.linspace(h, 1-h, N)\n",
    "\n",
    "# Tridiagonální matice\n",
    "A = (np.eye(N, k=0)*-(2)+   #diagonála\n",
    "    np.eye (N, k = -1)+     #pod diagonálou\n",
    "    np.eye(N, k = 1))       #nad diagonálou\n",
    "\n",
    "D = np.identity(N)*(-2)\n",
    "L = -np.tril(A, -1)\n",
    "U = -np.triu(A, 1)\n",
    "invD = np.linalg.inv(D)\n",
    "\n",
    "# Pravá strana\n",
    "hodnoty = xi * np.exp(xi)\n",
    "b = -h**2 * hodnoty\n",
    "\n",
    "# Jakobi\n",
    "x = np.zeros(N)\n",
    "for i in range(N):\n",
    "    y = np.dot(invD, np.dot(-(L+U), x) + b)\n",
    "    x = y.copy()\n",
    "\n",
    "print(f\"Maximum je {np.max(x)}\")\n",
    "\n",
    "# Analytické řešení\n",
    "def anRes(x):\n",
    "    return (x - 1) * np.exp(x) + 1\n",
    "\n",
    "print(f\"Maximální chyba: {np.max(np.abs(x - anRes(xi)))}\")\n"
   ]
  },
  {
   "cell_type": "code",
   "execution_count": null,
   "id": "96b6abe7-e21b-452a-94fd-e7f57bf85cdb",
   "metadata": {},
   "outputs": [],
   "source": []
  }
 ],
 "metadata": {
  "kernelspec": {
   "display_name": "Python 3 (ipykernel)",
   "language": "python",
   "name": "python3"
  },
  "language_info": {
   "codemirror_mode": {
    "name": "ipython",
    "version": 3
   },
   "file_extension": ".py",
   "mimetype": "text/x-python",
   "name": "python",
   "nbconvert_exporter": "python",
   "pygments_lexer": "ipython3",
   "version": "3.12.3"
  }
 },
 "nbformat": 4,
 "nbformat_minor": 5
}
