{
 "cells": [
  {
   "cell_type": "code",
   "execution_count": 1,
   "id": "718997d5-af6a-40d6-aa94-fc1ce3b4e805",
   "metadata": {},
   "outputs": [
    {
     "name": "stdout",
     "output_type": "stream",
     "text": [
      "sloupcová norma je 29, řádková norma je 38 a spektrální norma je 24.313793762730644\n"
     ]
    }
   ],
   "source": [
    "import numpy as np\n",
    "\n",
    "A = np.array([[-4,3,0,0], [4,20,13,1], [0,0,2,1], [3,-6,7,3]])\n",
    "B = A.T@A\n",
    "\n",
    "# Sloupcová norma (p = 1)\n",
    "def sloup_norm(A): \n",
    "# Součet absolutních hodnot prvků ve sloupcích\n",
    "    x = 0\n",
    "    for s in range(0, len(A[0])):\n",
    "        soucet = 0\n",
    "        for r in range(0, len(A)):\n",
    "            soucet += abs(A[r][s])\n",
    "        if soucet > x:\n",
    "            x = soucet    \n",
    "    return x\n",
    "\n",
    "# Řádková norma (p = ∞)\n",
    "def rad_norm(A):\n",
    "# Součet absolutních hodnot prvků v řádcích \n",
    "    x = 0\n",
    "    for r in range(0, len(A[0])):\n",
    "        soucet = 0\n",
    "        for s in range(0, len(A)):\n",
    "            soucet += abs(A[r][s])\n",
    "        if soucet > x:\n",
    "            x = soucet    \n",
    "    return x   \n",
    "\n",
    "def maxlambda(A):\n",
    "    u = np.array([1,0,1/2,0])\n",
    "    tol = 1e-6\n",
    "    maxint = 100\n",
    "    l_old = 0\n",
    "    \n",
    "    for i in range(maxint):\n",
    "        u = A@u / np.linalg.norm(A@u)\n",
    "        l = (u.T @ A @ u) / (u.T @ u)\n",
    "\n",
    "        if np.abs(l_old - l) < tol:\n",
    "            break\n",
    "        else:\n",
    "            l_old = l\n",
    "    return l        \n",
    "\n",
    "def spekt_norm(A):\n",
    "    l = maxlambda(B)\n",
    "    snorm = np.sqrt(l)\n",
    "    return snorm\n",
    "print(f\"sloupcová norma je {sloup_norm(A)}, řádková norma je {rad_norm(A)} a spektrální norma je {spekt_norm(A)}\") \n"
   ]
  }
 ],
 "metadata": {
  "kernelspec": {
   "display_name": "Python 3 (ipykernel)",
   "language": "python",
   "name": "python3"
  },
  "language_info": {
   "codemirror_mode": {
    "name": "ipython",
    "version": 3
   },
   "file_extension": ".py",
   "mimetype": "text/x-python",
   "name": "python",
   "nbconvert_exporter": "python",
   "pygments_lexer": "ipython3",
   "version": "3.12.3"
  }
 },
 "nbformat": 4,
 "nbformat_minor": 5
}
